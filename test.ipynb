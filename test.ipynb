{
 "cells": [
  {
   "cell_type": "code",
   "execution_count": 12,
   "metadata": {},
   "outputs": [],
   "source": [
    "import numpy as np\n",
    "\n",
    "# Load XYZ file\n",
    "xyz_data = np.loadtxt('/home/ali/robotics/contact_graspnet_pytorch/strawberry_fruit.np.xyz')  # Assumes space/tab separated columns\n",
    "\n",
    "# Create multiple transformed copies\n",
    "\n",
    "\n",
    "# Save as pickled numpy array\n",
    "np.save('strawberry_fruit.npy', {'xyz': xyz_data})\n"
   ]
  },
  {
   "cell_type": "code",
   "execution_count": 11,
   "metadata": {},
   "outputs": [],
   "source": [
    "import trimesh\n",
    "import numpy as np\n",
    "import open3d as o3d\n",
    "\n",
    "# Load GLB file\n",
    "mesh = o3d.io.read_triangle_mesh('beer_bottle.glb')\n",
    "# Sample points from the mesh\n",
    "point_cloud = mesh.sample_points_uniformly(number_of_points=10000)\n",
    "# Convert to numpy array\n",
    "point_cloud = np.asarray(point_cloud.points)\n",
    "\n",
    "# Add sampled points to the list of all points\n",
    "all_points.append(point_cloud)\n",
    "\n",
    "# Create multiple transformed copies\n",
    "num_copies = 0\n",
    "all_points = []\n",
    "\n",
    "np.save('strawberry_fruit.npy', {'xyz': point_cloud})\n",
    "\n",
    "\n",
    "# for _ in range(num_copies):\n",
    "#     # Random rotation matrix\n",
    "#     random_angles = np.random.uniform(-np.pi, np.pi, 3)\n",
    "#     Rx = np.array([[1, 0, 0],\n",
    "#                    [0, np.cos(random_angles[0]), -np.sin(random_angles[0])],\n",
    "#                    [0, np.sin(random_angles[0]), np.cos(random_angles[0])]])\n",
    "    \n",
    "#     Ry = np.array([[np.cos(random_angles[1]), 0, np.sin(random_angles[1])],\n",
    "#                    [0, 1, 0],\n",
    "#                    [-np.sin(random_angles[1]), 0, np.cos(random_angles[1])]])\n",
    "    \n",
    "#     Rz = np.array([[np.cos(random_angles[2]), -np.sin(random_angles[2]), 0],\n",
    "#                    [np.sin(random_angles[2]), np.cos(random_angles[2]), 0],\n",
    "#                    [0, 0, 1]])\n",
    "    \n",
    "#     R = Rz @ Ry @ Rx\n",
    "    \n",
    "#     # Random translation\n",
    "#     t = np.random.uniform(-0.5, 0.5, 3)\n",
    "    \n",
    "#     # Transform points\n",
    "#     transformed_points = (R @ xyz_data.T).T + t\n",
    "#     all_points.append(transformed_points)\n",
    "\n",
    "# # Combine all transformed copies\n",
    "# xyz_data = np.vstack(all_points)\n",
    "\n",
    "# Save as pickled numpy array\n",
    "\n"
   ]
  }
 ],
 "metadata": {
  "kernelspec": {
   "display_name": "aser",
   "language": "python",
   "name": "python3"
  },
  "language_info": {
   "codemirror_mode": {
    "name": "ipython",
    "version": 3
   },
   "file_extension": ".py",
   "mimetype": "text/x-python",
   "name": "python",
   "nbconvert_exporter": "python",
   "pygments_lexer": "ipython3",
   "version": "3.10.16"
  }
 },
 "nbformat": 4,
 "nbformat_minor": 2
}
